{
 "cells": [
  {
   "cell_type": "code",
   "execution_count": 23,
   "metadata": {},
   "outputs": [],
   "source": [
    "import numpy as np\n",
    "import matplotlib.pyplot as plt"
   ]
  },
  {
   "cell_type": "markdown",
   "metadata": {},
   "source": [
    "**Exercise 21.1.**  Provide an example of a practical engineering problem that is multidisciplinary?\n",
    "\n",
    "**Answer:** A practical engineering problem that is multidisciplinary is the design of a car.  The design of a car requires the expertise of mechanical engineers, electrical engineers, and computer scientists.  Mechanical engineers are needed to design the car's engine, electrical engineers are needed to design the car's electrical system, and computer scientists are needed to design the car's computer system."
   ]
  },
  {
   "cell_type": "markdown",
   "metadata": {},
   "source": [
    "**Exercise 21.2.**  Provide an abstract example of a multidisciplinary problem where the order of the analysis is important.\n",
    "\n",
    "**Answer:** Say that the problem is in a directed grapgh. The problem needs to start in the root and then go to all leaves in a topological order. If the order is not respected, the problem will not be solved."
   ]
  },
  {
   "cell_type": "markdown",
   "metadata": {},
   "source": [
    "**Exercise 21.3.**  What is one advantage of the individual discipline feasiable arhitecture over multidisciplinary design feasible and sequentional optimization architecture?\n",
    "\n",
    "**Answer:** The individual discipline feasible architecture can be done in parallel, while the multidisciplinary design feasible and sequential optimization architecture can only be done in sequence."
   ]
  },
  {
   "cell_type": "markdown",
   "metadata": {},
   "source": [
    "**Exercise 21.4.**  Consider applying multidisciplinary design analysis to minimizing the weight of a wing whose deformation and loading are computed by separate disciplines. We will use a simplified version of the problem, representing the wing as a horizontally-mounted pendulum supported by a torsional spring. The objective is to minimize the spring stiffness, $k$, such that the pendulum’s displacement does not exceed a target threshold. The pendulum length $\\ell$, pendulum point mass $m$, and gravitational constant $g$ are fixed.\n",
    "We use two simplified analyses in place of more sophisticated analyses used to compute deformations and loadings of aircraft wings. Assuming the pendulum is rigid, the loading moment $M$ is equal to $mg\\ell cos(\\theta)$. The torsional spring resists deformation such that the pendulum’s angular displacement $\\theta$ is $M/k$.\n",
    "Formulate the spring-pendulum problem under the multidisciplinary design feasible architecture, and then solve it according to that architecture for:\n",
    "$m = 1 kg, \\ell = 1 m, g = 9.81 m s^{-2}, \\theta_{max} = 10^{\\circ}$"
   ]
  },
  {
   "cell_type": "markdown",
   "metadata": {},
   "source": [
    "**Answer:** The spring-pendulum problem under the multidisciplinary design feasible architecture is:\n",
    "\n",
    "$$\n",
    "\\begin{align}\n",
    "\\max_{k} \\quad & \\text{MDA}(k) \\\\\n",
    "\\text{subject to:} \\quad & k > 0 \\\\\n",
    "& \\theta \\leq \\theta_{max} \\\\\n",
    "& \\text{MDA}(k) \\in \\mathcal{X} \\\\\n",
    "\\end{align}\n",
    "$$\n"
   ]
  }
 ],
 "metadata": {
  "kernelspec": {
   "display_name": "base",
   "language": "python",
   "name": "python3"
  },
  "language_info": {
   "codemirror_mode": {
    "name": "ipython",
    "version": 3
   },
   "file_extension": ".py",
   "mimetype": "text/x-python",
   "name": "python",
   "nbconvert_exporter": "python",
   "pygments_lexer": "ipython3",
   "version": "3.8.10"
  }
 },
 "nbformat": 4,
 "nbformat_minor": 2
}

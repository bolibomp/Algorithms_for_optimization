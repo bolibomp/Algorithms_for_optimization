{
 "cells": [
  {
   "cell_type": "code",
   "execution_count": 1,
   "metadata": {},
   "outputs": [],
   "source": [
    "from scipy.optimize import linprog\n",
    "import numpy as np"
   ]
  },
  {
   "cell_type": "markdown",
   "metadata": {},
   "source": [
    "**Exercise 19.1**  A Boolean satisfiability problem, often abbreviated SAT, requires determining whether a Boolean design exists that causes a Boolean-valued objective function to output true. SAT problems were the first to be proven to belong to the difficult class of NP-complete problems.21 This means that SAT is at least as difficult as all other problems whose solutions can be verified in polynomial time. Consider the Boolean objective function:\n",
    "\n",
    "$$\n",
    "f(x) = x_1 \\wedge (x_2 \\vee \\neg x_3) \\wedge (\\neg x_1 \\vee \\neg x_2)\n",
    "$$\n",
    "\n",
    "Find an optimal design using enumeration. How many designs must be considered for an $n$-dimensional design vector in the worst case?\n",
    "\n",
    "**Answer:** Since each component can be either true or false, there are $2^n$ possible designs. In the worst case, we must consider all of them."
   ]
  },
  {
   "cell_type": "code",
   "execution_count": 2,
   "metadata": {},
   "outputs": [
    {
     "name": "stdout",
     "output_type": "stream",
     "text": [
      "For x = (True, False, False)\n"
     ]
    }
   ],
   "source": [
    "def f(x):\n",
    "    x1, x2, x3 = x\n",
    "    term1 = x1 and (x2 or not x3)\n",
    "    term2 = (not x1 or not x2)\n",
    "    result = term1 and term2\n",
    "    if result:\n",
    "        return True\n",
    "    else:\n",
    "        return False\n",
    "\n",
    "for x1 in [True, False]:\n",
    "    for x2 in [True, False]:\n",
    "        for x3 in [True, False]:\n",
    "            x_values = (x1, x2, x3)\n",
    "            result = f(x_values)\n",
    "            if result:\n",
    "                print(f\"For x = {x_values}\")"
   ]
  },
  {
   "cell_type": "markdown",
   "metadata": {},
   "source": [
    "**Exercise 19.2** Formulate the problem in exercise 19.1 as a linear program. Can any Boolean satisfiability problem be formulated as a linear program?\n",
    "\n",
    "**Answer:** The problem can be formulated as a linear program by saying that each component is either 0 or 1. Negations are simply 1 minus the variable. The AND or OR function constraints the expression to be 1\n",
    "\n",
    "$$\n",
    "\\begin{align}\n",
    "\\min_{x} \\quad & 0 \\\\\n",
    "\\text{s.t.} \\quad & x_1\\geq 1 \\\\\n",
    "& x_2+(1-x_3)\\geq 1 \\\\\n",
    "& (1-x_1)+(1-x_2)\\geq 1 \\\\\n",
    "& x_1,x_2,x_3\\in\\{0,1\\}\n",
    "\\end{align}\n",
    "$$\n",
    "\n",
    "In this formulation it's quite easy to see that the solution is $x_1=1,x_2=0,x_3=0$.\n",
    "This approach can be used to formulate any Boolean satisfiability problem as a linear integer program."
   ]
  },
  {
   "cell_type": "markdown",
   "metadata": {},
   "source": [
    "**Exercise 19.3**  Why are we interesed in tottaly unimodular matrices? Furthermore, why does every totally unimodular matrix only entries of -1, 0, and 1?\n",
    "\n",
    "**Answer:** We are interested in totally unimodular matrices because they have the property that the solution to the linear program is always integer. This means that we can solve the linear integer program as a linear program and then round the solution to the nearest integer. This is much faster than solving the linear integer program directly.\n",
    "Totally unimodular matrices have the property that every square submatrix has determinant -1, 0, or 1. This means that the determinant of the matrix is -1, 0, or 1. Since the determinant is the sum of the products of the elements of the matrix, and the elements are integers, the determinant must be an integer. Therefore, the determinant can only be -1, 0, or 1."
   ]
  },
  {
   "cell_type": "markdown",
   "metadata": {},
   "source": [
    "**Exercise 19.4**  This chapter solved the 0-1 knapsack problem using dynamic programming. Show how to apply branch and bound to the 0-1 knapsack problem, and use your approach to solve the knapsack problem with values $v =\n",
    "[9, 4, 2, 3, 5, 3]$, and weights $w = [7, 8, 4, 5, 9, 4]$ with capacity $w_{max} = 20$.\n",
    "\n",
    "**Answer:** \n"
   ]
  },
  {
   "cell_type": "markdown",
   "metadata": {},
   "source": [
    "#### Root"
   ]
  },
  {
   "cell_type": "code",
   "execution_count": 3,
   "metadata": {},
   "outputs": [
    {
     "name": "stdout",
     "output_type": "stream",
     "text": [
      "[1.         0.         0.         1.         0.44444444 1.        ]\n",
      "-17.22222222222222\n"
     ]
    }
   ],
   "source": [
    "c = [-9, -4, -2, -3, -5, -3]\n",
    "A = [[7, 8, 4, 5, 9, 4]]\n",
    "b = [20]\n",
    "\n",
    "bounds = [(0, 1), (0, 1), (0, 1), (0, 1), (0, 1), (0, 1)]\n",
    "\n",
    "res = linprog(c, A_ub=A, b_ub=b, bounds=bounds)\n",
    "print(res.x)\n",
    "print(res.fun)"
   ]
  },
  {
   "cell_type": "markdown",
   "metadata": {},
   "source": [
    "#### Branch 1"
   ]
  },
  {
   "cell_type": "code",
   "execution_count": 4,
   "metadata": {},
   "outputs": [
    {
     "name": "stdout",
     "output_type": "stream",
     "text": [
      "[1. 0. 1. 1. 0. 1.]\n",
      "-17.0\n"
     ]
    }
   ],
   "source": [
    "bounds = [(0, 1), (0, 1), (0, 1), (0, 1), (0, 0), (0, 1)]\n",
    "\n",
    "res = linprog(c, A_ub=A, b_ub=b, bounds=bounds)\n",
    "print(res.x)\n",
    "print(res.fun)"
   ]
  },
  {
   "cell_type": "markdown",
   "metadata": {},
   "source": [
    "#### Branch 2"
   ]
  },
  {
   "cell_type": "code",
   "execution_count": 5,
   "metadata": {},
   "outputs": [
    {
     "name": "stdout",
     "output_type": "stream",
     "text": [
      "[ 1.  0.  0. -0.  1.  1.]\n",
      "-17.0\n"
     ]
    }
   ],
   "source": [
    "bounds = [(0, 1), (0, 1), (0, 1), (0, 1), (1, 1), (0, 1)]\n",
    "\n",
    "res = linprog(c, A_ub=A, b_ub=b, bounds=bounds)\n",
    "print(res.x)\n",
    "print(res.fun)"
   ]
  },
  {
   "cell_type": "markdown",
   "metadata": {},
   "source": [
    "Both branches work out to be the same."
   ]
  }
 ],
 "metadata": {
  "kernelspec": {
   "display_name": "base",
   "language": "python",
   "name": "python3"
  },
  "language_info": {
   "codemirror_mode": {
    "name": "ipython",
    "version": 3
   },
   "file_extension": ".py",
   "mimetype": "text/x-python",
   "name": "python",
   "nbconvert_exporter": "python",
   "pygments_lexer": "ipython3",
   "version": "3.8.10"
  }
 },
 "nbformat": 4,
 "nbformat_minor": 2
}

{
 "cells": [
  {
   "cell_type": "markdown",
   "metadata": {},
   "source": [
    "**Exercise 8.1.** We have shown that mixture proposal distributions can better capture multimodal minima. Why might their use in cross-entropy method be limited?\n",
    "\n",
    "**Answer:** The cross-entropy method tries to fit it's distribution to the best samples. It might be very challenging to fit a mixture distribution to the samples."
   ]
  },
  {
   "cell_type": "markdown",
   "metadata": {},
   "source": [
    "**Exercise 8.2.** In cross-entropy method, what is a potential effect of using an elite sample size that is very close to the total sample size?\n",
    "\n",
    "**Answer:** If thye elite samples will be very similar to the total samples the convergance rate might be very poor as the initial distribution will fit the samples very well and you will most likely not explore the space."
   ]
  },
  {
   "cell_type": "markdown",
   "metadata": {},
   "source": [
    "**Exercise 8.3.**  The log-likelihood of a value sampled from a Gaussian distribution with mean $\\mu$ and variance $\\nu$ is:\n",
    "\n",
    "$$\n",
    "\\mathcal{l}(x|\\mu,\\nu) = -\\frac{1}{2}\\log(2\\pi) - \\frac{1}{2}\\log(\\nu) - \\frac{(x-\\mu)^2}{2\\nu}\n",
    "$$\n",
    "Show why evolutionary strategies using Gaussian distribution may encounter difficulties while applying a descent update on the variance when the mean is on the optimum, $\\mu = x^*$.\n",
    "\n",
    "**Answer:** The gradient of the log-likelihood is:\n",
    "\n",
    "$$\n",
    "\\frac{\\partial \\mathcal{l}(x|\\mu,\\nu)}{\\partial \\nu} = -\\frac{1}{2\\nu} + \\frac{(x-\\mu)^2}{2\\nu^2}\n",
    "$$\n",
    "\n",
    "When $\\mu = x^*$ the gradient is:\n",
    "\n",
    "$$\n",
    "\\frac{\\partial \\mathcal{l}(x|\\mu,\\nu)}{\\partial \\nu} = -\\frac{1}{2\\nu} + \\frac{(x-x^*)^2}{2\\nu^2}\n",
    "$$\n",
    "\n",
    "The second term will be zero when $x = x^*$ meaning that we update the step size only by the first term. A smaller $\\nu$ (that is we draw from the better solutions) will result in a larger step size thus moving us away from the optimum."
   ]
  },
  {
   "cell_type": "markdown",
   "metadata": {},
   "source": [
    "**Exercise 8.4.**  The log-likelihood of a value sampled from a Gaussian distribution with mean $\\mu$ and variance $\\nu$ is:"
   ]
  }
 ],
 "metadata": {
  "language_info": {
   "name": "python"
  }
 },
 "nbformat": 4,
 "nbformat_minor": 2
}

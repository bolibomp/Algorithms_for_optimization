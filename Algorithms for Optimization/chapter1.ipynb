{
 "cells": [
  {
   "cell_type": "code",
   "execution_count": 1,
   "metadata": {},
   "outputs": [],
   "source": [
    "import numpy as np\n",
    "import matplotlib.pyplot as plt\n",
    "import sympy as sp\n",
    "import scipy as sci\n",
    "import pandas as pd"
   ]
  },
  {
   "cell_type": "markdown",
   "metadata": {},
   "source": [
    "**Exercise 1.1.**  Give an example of a function with a local minimum that is not a\n",
    "global minimum.\n",
    "\n",
    "**Answer:**\n",
    "$$\n",
    "f(x) = x^3 + 2x^2 -5x + 6\n",
    "$$"
   ]
  },
  {
   "cell_type": "code",
   "execution_count": 2,
   "metadata": {},
   "outputs": [
    {
     "data": {
      "image/png": "[encoded data removed]",
      "text/plain": [
       "<Figure size 640x480 with 1 Axes>"
      ]
     },
     "metadata": {},
     "output_type": "display_data"
    }
   ],
   "source": [
    "def third_order_polynomial(x):\n",
    "    return x**3+2*x**2-5*x+6\n",
    "\n",
    "x = np.linspace(-5, 5, 100)\n",
    "y = third_order_polynomial(x)\n",
    "\n",
    "#plot red point on the local minimum\n",
    "plt.plot(x, y)\n",
    "plt.plot((np.sqrt(19))/(3)-2/3, third_order_polynomial((np.sqrt(19))/(3)-2/3), 'ro', label='local minimum')\n",
    "plt.grid()\n",
    "plt.legend()\n",
    "plt.show()"
   ]
  },
  {
   "cell_type": "markdown",
   "metadata": {},
   "source": [
    "**Exercise 1.2.**  What is the minimum of the function $f(x) = x^3-x$?\n",
    "\n",
    "**Answer:**\n",
    "$$\n",
    "f'(x) = 3x^2 - 1 = 0 \\Rightarrow x = \\pm \\frac{1}{\\sqrt{3}}\n",
    "$$\n",
    "\n",
    "$$\n",
    "f''(x) = 6x\n",
    "$$\n",
    "\n",
    "$$\n",
    "f''\\left(\\frac{1}{\\sqrt{3}}\\right) = 2\\sqrt{3} > 0\n",
    "$$\n",
    "\n",
    "$$\n",
    "f''\\left(-\\frac{1}{\\sqrt{3}}\\right) = -2\\sqrt{3} < 0\n",
    "$$\n",
    "\n",
    "Therefore, $x = \\frac{1}{\\sqrt{3}}$ is a local minimum and $x = -\\frac{1}{\\sqrt{3}}$ is a local maximum.\n",
    "\n",
    "However, since $\\lim_{x \\to \\infty} f(x) = \\infty$ and $\\lim_{x \\to -\\infty} f(x) = -\\infty$, there is no global minimum or maximum."
   ]
  },
  {
   "cell_type": "markdown",
   "metadata": {},
   "source": [
    "**Exercise 1.3.**  Does the first-order condition $f'(x) = 0$ hold when $x$ is the optimal\n",
    "solution of a constrained problem?\n",
    "\n",
    "**Answer:**\n",
    "No, because the optimal solution of a constrained problem is not necessarily a local minimum."
   ]
  },
  {
   "cell_type": "markdown",
   "metadata": {},
   "source": [
    "**Exercise 1.4.**  How many minima does $f(x,y) = x^2 + y$, subject to $x>y\\geq1$, have?\n",
    "\n",
    "**Answer:**\n",
    "$$\n",
    "f(x,y) = x^2 + y\n",
    "$$\n",
    "\n",
    "$$\n",
    "g(x,y) = x - y\n",
    "$$\n",
    "\n",
    "$$\n",
    "h(y) = y - 1\n",
    "$$\n",
    "\n",
    "$$\n",
    "L(x,y,\\lambda, \\mu) = x^2 + y + \\lambda(x-y) + \\mu(y-1)\n",
    "$$\n",
    "\n",
    "$$\n",
    "\\frac{\\partial L}{\\partial x} = 2x + \\lambda = 0\n",
    "$$\n",
    "\n",
    "$$\n",
    "\\frac{\\partial L}{\\partial y} = 1 - \\lambda + \\mu = 0\n",
    "$$\n",
    "\n",
    "$$\n",
    "\\frac{\\partial L}{\\partial \\lambda} = x - y = 0\n",
    "$$\n",
    "\n",
    "$$\n",
    "\\frac{\\partial L}{\\partial \\mu} = y - 1 = 0\n",
    "$$"
   ]
  },
  {
   "cell_type": "markdown",
   "metadata": {},
   "source": [
    "$$\n",
    "\\frac{\\partial L}{\\partial \\lambda} = x - y = 0\n",
    "$$\n",
    "\n",
    "Implies that $x = y$, but $x > y$, so there are no minima."
   ]
  },
  {
   "cell_type": "markdown",
   "metadata": {},
   "source": [
    "**Exercise 1.5.**  How many inflection points does $f(x) = x^3-10$ have?\n",
    "\n",
    "**Answer:**\n",
    "$$\n",
    "f'(x) = 3x^2\n",
    "$$\n",
    "\n",
    "$$\n",
    "f''(x) = 6x\n",
    "$$\n",
    "\n",
    "$$\n",
    "f''(x) = 0 \\Rightarrow x = 0\n",
    "$$\n",
    "\n",
    "There is only one inflection point."
   ]
  }
 ],
 "metadata": {
  "kernelspec": {
   "display_name": "base",
   "language": "python",
   "name": "python3"
  },
  "language_info": {
   "codemirror_mode": {
    "name": "ipython",
    "version": 3
   },
   "file_extension": ".py",
   "mimetype": "text/x-python",
   "name": "python",
   "nbconvert_exporter": "python",
   "pygments_lexer": "ipython3",
   "version": "3.8.10"
  }
 },
 "nbformat": 4,
 "nbformat_minor": 2
}

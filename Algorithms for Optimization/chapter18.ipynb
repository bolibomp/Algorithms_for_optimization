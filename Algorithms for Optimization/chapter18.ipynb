{
 "cells": [
  {
   "cell_type": "code",
   "execution_count": 11,
   "metadata": {},
   "outputs": [],
   "source": [
    "from sympy import symbols, exp, sqrt, pi, integrate, oo"
   ]
  },
  {
   "cell_type": "markdown",
   "metadata": {},
   "source": [
    "**Excercise 18.1** Suppose we draw a sample from a univariate Gaussian distribution. What is the probability that our sample falls within one standard deviation of the mean ($x \\in [\\mu - \\sigma, \\mu + \\sigma]$)? What is the probability that our sample is less than one standard deviation above the mean ($x <\\mu + \\sigma$)?\n",
    "\n",
    "**Answer:** "
   ]
  },
  {
   "cell_type": "code",
   "execution_count": 6,
   "metadata": {},
   "outputs": [
    {
     "data": {
      "text/latex": [
       "$\\displaystyle \\operatorname{erf}{\\left(\\frac{\\sqrt{2}}{2} \\right)}$"
      ],
      "text/plain": [
       "erf(sqrt(2)/2)"
      ]
     },
     "metadata": {},
     "output_type": "display_data"
    },
    {
     "data": {
      "text/latex": [
       "$\\displaystyle 0.682689492137086$"
      ],
      "text/plain": [
       "0.682689492137086"
      ]
     },
     "metadata": {},
     "output_type": "display_data"
    }
   ],
   "source": [
    "# Define symbols\n",
    "x, mu, sigma = symbols('x mu sigma')\n",
    "\n",
    "# Define the probability density function (PDF) of a normal distribution\n",
    "cdf1 = 1 / (sigma * sqrt(2 * pi)) * integrate(exp(-(x - mu)**2 / (2 * sigma**2)), (x, mu-sigma, mu+sigma))\n",
    "\n",
    "display(cdf1.simplify())\n",
    "display(cdf1.evalf())"
   ]
  },
  {
   "cell_type": "code",
   "execution_count": 10,
   "metadata": {},
   "outputs": [
    {
     "data": {
      "text/latex": [
       "$\\displaystyle - \\frac{\\operatorname{erf}{\\left(\\frac{\\sqrt{2} \\left(\\mu - x\\right)}{2 \\sigma} \\right)}}{2}$"
      ],
      "text/plain": [
       "-erf(sqrt(2)*(mu - x)/(2*sigma))/2"
      ]
     },
     "metadata": {},
     "output_type": "display_data"
    }
   ],
   "source": [
    "cdf2 = 1 / (sigma * sqrt(2 * pi)) * integrate(exp(-(x - mu)**2 / (2 * sigma**2)),x)\n",
    "\n",
    "display(cdf2.simplify())"
   ]
  },
  {
   "cell_type": "code",
   "execution_count": 14,
   "metadata": {},
   "outputs": [
    {
     "data": {
      "text/latex": [
       "$\\displaystyle 0.341344746068543$"
      ],
      "text/plain": [
       "0.341344746068543"
      ]
     },
     "metadata": {},
     "output_type": "display_data"
    }
   ],
   "source": [
    "lower_limit = -1/2\n",
    "upper_limit = cdf2.subs({x: mu + sigma}).evalf()\n",
    "display(upper_limit)"
   ]
  },
  {
   "cell_type": "code",
   "execution_count": 15,
   "metadata": {},
   "outputs": [
    {
     "data": {
      "text/latex": [
       "$\\displaystyle 0.841344746068543$"
      ],
      "text/plain": [
       "0.841344746068543"
      ]
     },
     "execution_count": 15,
     "metadata": {},
     "output_type": "execute_result"
    }
   ],
   "source": [
    "upper_limit - lower_limit"
   ]
  },
  {
   "cell_type": "markdown",
   "metadata": {},
   "source": [
    "**Excercise 18.2** Let $x^{(1)}, x^{(2)}, \\ldots, x^{(m)}$ be a random sample of independet, identically distributed values of size $m$ from a distribution with mean $\\mu$ and variance $\\nu$. Show that the variance of the sample mean is $\\frac{\\nu}{m}$.\n",
    "\n",
    "**Answer:** \n",
    "\n",
    "$$\n",
    "\\begin{align}\n",
    "\\text{Var}(\\bar{x}) &= \\text{Var}\\left(\\frac{1}{m}\\sum_{i=1}^m x^{(i)}\\right) \\\\\n",
    "&= \\frac{1}{m^2}\\text{Var}\\left(\\sum_{i=1}^m x^{(i)}\\right) \\\\\n",
    "&= \\frac{1}{m^2} m \\nu \\\\\n",
    "&= \\frac{\\nu}{m}\n",
    "\\end{align}\n",
    "$$\n",
    "\n",
    "Note that we dont get any cross terms because the $x^{(i)}$ are independent."
   ]
  },
  {
   "cell_type": "markdown",
   "metadata": {},
   "source": [
    "**Excercise 18.3**  Derive the recurrsion relation equation (18.29) that is satisfied by all orthogonal polynomials.\n",
    "\n",
    "**Answer:**"
   ]
  },
  {
   "cell_type": "markdown",
   "metadata": {},
   "source": [
    "**Excercise 18.4** Suppose we have fitted a polynomial chaos model of an objective function $f(\\mathbf{x}, \\mathbf{z})$  for a perticular design point $\\mathbf{x}$ using m evaluations with $\\mathbf{z^{(1)}}, \\mathbf{z^{(2)}}, \\ldots, \\mathbf{z^{(m)}}$. Derive an expression for estimating the partial derivative of the polynomial chaos coefficients with respect to the design point $\\mathbf{x}$."
   ]
  }
 ],
 "metadata": {
  "kernelspec": {
   "display_name": "base",
   "language": "python",
   "name": "python3"
  },
  "language_info": {
   "codemirror_mode": {
    "name": "ipython",
    "version": 3
   },
   "file_extension": ".py",
   "mimetype": "text/x-python",
   "name": "python",
   "nbconvert_exporter": "python",
   "pygments_lexer": "ipython3",
   "version": "3.8.10"
  }
 },
 "nbformat": 4,
 "nbformat_minor": 2
}

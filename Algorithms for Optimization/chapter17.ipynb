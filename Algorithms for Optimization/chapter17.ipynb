{
 "cells": [
  {
   "cell_type": "code",
   "execution_count": 1,
   "metadata": {},
   "outputs": [],
   "source": [
    "import scipy.stats as stats\n",
    "import matplotlib.pyplot as plt"
   ]
  },
  {
   "cell_type": "markdown",
   "metadata": {},
   "source": [
    "**Exercise 17.1** Suppose we have zero-mean Gaussian noise in the input such that $f(x,z) = f(x+z)$. Consider the three points $a$, $b$, and $c$ in the figure below:\n",
    "What design point is best if we are maximizing the expected value minus the standard deviation?\n",
    "\n",
    "**Answer**: The objective is $\\mathbb{E}[f(x+z)] - \\sqrt{\\mathbb{V}[f(x+z)]}$. The expected value is minimized at $a$ and we also see that the standard deviation is minimized at $a$. Thus, $a$ is the best design point."
   ]
  },
  {
   "cell_type": "markdown",
   "metadata": {},
   "source": [
    "**Exercise 17.2** Optima, such as the one depicted in figure 17.6, often lie on a constraint boundary and are thus sensitive to uncertainties that could cause them to become infeasible. One approach to overcome uncertainty with respect to feasibility is to make the constraints more stringent, reducing the size of the feasible region as shown in figure 17.7.\n",
    "It is common to rewrite constraints of the form $g(x) \\leq g_{\\max}$ to $\\gamma g(x) \\leq g_{\\max}$, where $\\gamma > 1$ is a factor of safety. Optimizing such that the constraint values stay below $g_{\\max}/\\gamma$ provides an additional safety buffer.\n",
    "Consider a beam with a square cross section thought to fail when the stresses exceed $\\sigma_{\\max} = 1$. We wish to minimize the cross section $f(x) = x^2$, where $x$ is the cross section length. The stress in the beam is also a function of the cross section length $g(x) = x^{-2}$. Plot the probability that the optimized design does not fail as the factor of safety varies from 1 to 2:\n",
    "* Uncertainty in maximum stress, $g(x, z) = x^{-2} + z$\n",
    "* Uncertainty in construction tolerance, $g(x, z) = (x + z)^{-2}$\n",
    "* Uncertainty in material properties, $g(x, z) = (1 + z)x^{-2}$\n",
    "where $z$ is zero-mean noise with variance 0.01\n",
    "\n",
    "\n",
    "**Answer**: The optimization problem is\n",
    "$$\n",
    "\\begin{align}\n",
    "\\min_{x} &\\quad x^2 \\\\\n",
    "\\text{s.t.} &\\quad \\gamma x^{-2} -1 \\leq 0\n",
    "\\end{align}\n",
    "$$\n",
    "\n",
    "The Lagrangian is\n",
    "$$\n",
    "\\mathcal{L}(x, \\mu) = x^2 + \\mu(\\gamma x^{-2} -1)\n",
    "$$\n",
    "\n",
    "The KKT conditions are\n",
    "\n",
    "$$\n",
    "\\begin{align}\n",
    "\\frac{\\partial \\mathcal{L}}{\\partial x} &= 2x - \\frac{2\\mu}{x^3} = 0 \\\\\n",
    "\\frac{\\partial \\mathcal{L}}{\\partial \\mu} &= \\gamma x^{-2} -1 \\leq 0 \\\\\n",
    "\\mu &\\geq 0 \\\\\n",
    "\\mu(\\gamma x^{-2} -1) &= 0\n",
    "\\end{align}\n",
    "$$\n",
    "\n",
    "The first condition implies that $\\mu = x^{4}$. The second condition implies that $\\gamma x^{-2} = 1$ or $x = \\sqrt{\\gamma}$. The third condition implies that $\\mu \\geq 0$. The fourth condition implies that $\\mu = 0$ or $\\gamma x^{-2} = 1$. Thus, the optimal solution is $x = \\sqrt{\\gamma}$ and $\\mu = \\gamma^2$."
   ]
  },
  {
   "cell_type": "markdown",
   "metadata": {},
   "source": [
    "Lets substitute the optimal solution into each constraint to get the probability that the optimized design does not fail. For the uncertainty in maximum stress case, the probability is\n",
    "\n",
    "$$\n",
    "\\begin{align}\n",
    "\\mathbb{P}[\\gamma \\left(x^{-2}+z\\right) -1 \\leq 0]\\\\\n",
    "\\mathbb{P}[\\left(\\gamma z + 1\\right) -1 \\leq 0]\\\\\n",
    "\\mathbb{P}[\\gamma z \\leq 0]\\\\\n",
    "\\end{align}\n",
    "$$\n",
    "\n",
    "For the uncertainty in construction tolerance case, the probability is\n",
    "\n",
    "$$\n",
    "\\begin{align}\n",
    "\\mathbb{P}[\\gamma \\left(x+z\\right)^{-2} -1 \\leq 0]\\\\\n",
    "\\mathbb{P}\\left[\\frac{\\gamma}{\\left(\\sqrt{\\gamma}+z\\right)^{2}} -1 \\leq 0\\right]\n",
    "\\end{align}\n",
    "$$\n",
    "\n",
    "For the uncertainty in material properties case, the probability is\n",
    "\n",
    "$$\n",
    "\\begin{align}\n",
    "\\mathbb{P}[\\gamma \\left(1+z\\right)x^{-2} -1 \\leq 0]\\\\\n",
    "\\mathbb{P}\\left[z+1 -1 \\leq 0\\right]\\\\\n",
    "\\mathbb{P}\\left[z \\leq 0\\right]\\\\\n",
    "\\end{align}\n",
    "$$"
   ]
  },
  {
   "cell_type": "code",
   "execution_count": null,
   "metadata": {},
   "outputs": [],
   "source": [
    "def probability_gamma_Z_leq_0(gamma, mu, sigma):\n",
    "    cdf_value = stats.norm.cdf(0, loc=mu * gamma, scale=sigma * gamma)\n",
    "    \n",
    "    # Probability that gamma * Z is less than or equal to 0\n",
    "    probability = cdf_value\n",
    "    \n",
    "    return probability\n",
    "\n",
    "# Example usage\n",
    "gamma = 2.0\n",
    "mu = 1.0\n",
    "sigma = 0.5\n",
    "\n",
    "result = probability_gamma_Z_leq_0(gamma, mu, sigma)\n",
    "print(f\"The probability P[gamma * Z <= 0] is: {result:.4f}\")\n"
   ]
  }
 ],
 "metadata": {
  "kernelspec": {
   "display_name": "base",
   "language": "python",
   "name": "python3"
  },
  "language_info": {
   "codemirror_mode": {
    "name": "ipython",
    "version": 3
   },
   "file_extension": ".py",
   "mimetype": "text/x-python",
   "name": "python",
   "nbconvert_exporter": "python",
   "pygments_lexer": "ipython3",
   "version": "3.8.10"
  }
 },
 "nbformat": 4,
 "nbformat_minor": 2
}

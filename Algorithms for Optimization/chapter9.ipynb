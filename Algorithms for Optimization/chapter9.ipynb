{
 "cells": [
  {
   "cell_type": "markdown",
   "metadata": {},
   "source": [
    "**Excersise 9.1.** What is the motivation behind the seletion operation in gnetic algorithms?\n",
    "\n",
    "**Answer:** One aspect is that we simply need a way to select individuals for reproduction to keep the computational cost down. Another aspect is that we, of course, want to select the best individuals for reproduction and give their \"good\" genetics to the offspring to increase the chance of finding a good (or even optimal) solution."
   ]
  },
  {
   "cell_type": "markdown",
   "metadata": {},
   "source": [
    "**Excersise 9.2.** Why does mutation play such a fundamental role in genetic algorithms? How would we choose the mutation rate if we suspect ther is a better optimal solution?\n",
    "\n",
    "**Answer:** Mutation is important because it allows us to explore the search space. Without mutation, we would only be able to explore the search space by recombining existing individuals. \n",
    "If we suspect that there is a better optimal solution, we should increase the mutation rate to explore the search space more and maybe make the mutations smaller if we suspect that we are close to the optimal solution."
   ]
  },
  {
   "cell_type": "markdown",
   "metadata": {},
   "source": [
    "**Excersise 9.3.** If we observe that particle swarm optimization results in fast convergence to a nonglobal minimum, how might we change the parameters of the algorithm?\n",
    "\n",
    "**Answer:** We could decrease the $c_2$ parameter to decrease the influence of the best position of the swarm. We could also increase the $c_1$ parameter to increase the influence of the best position of the particle itself. We could decrease the inertia weight $w$ to decrease the influence of the previous velocity."
   ]
  }
 ],
 "metadata": {
  "language_info": {
   "name": "python"
  }
 },
 "nbformat": 4,
 "nbformat_minor": 2
}

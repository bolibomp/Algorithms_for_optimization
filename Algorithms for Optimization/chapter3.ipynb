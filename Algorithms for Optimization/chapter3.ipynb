{
 "cells": [
  {
   "cell_type": "code",
   "execution_count": 1,
   "metadata": {},
   "outputs": [],
   "source": [
    "import math\n",
    "import matplotlib.pyplot as plt\n",
    "import numpy as np"
   ]
  },
  {
   "cell_type": "markdown",
   "metadata": {},
   "source": [
    "**Exercise 3.1.**  Give an example of a problem when Fibonacci search is preferred\n",
    "over the bisection method.\n",
    "\n",
    "**Answer:**\n",
    "Since the bisect method requires the functions derivative, it is not always possible to use it. In this case, the Fibonacci search is preferred.\n",
    "\n",
    "Also the bisect method requires more function evaluations than the Fibonacci search. This is because the Fibonacci search only requires one function evaluation per iteration, while the bisect method requires two. So if the function is expensive to evaluate, the Fibonacci search is preferred."
   ]
  },
  {
   "cell_type": "markdown",
   "metadata": {},
   "source": [
    "**Exercise 3.2.** What is a drawback of the Shubert-Piyavskii method?\n",
    "\n",
    "**Answer:**\n",
    "Shubert-Piyavskii method requires the function to be lipschitz continuous. This is a strong requirement, and it is not always possible to find a lipschitz constant."
   ]
  },
  {
   "cell_type": "markdown",
   "metadata": {},
   "source": [
    "**Exercise 3.3.**  Give an example of a nontrivial function where quadratic fit search\n",
    "would identify the minimum correctly once the function values at three distinct\n",
    "points are available.\n",
    "\n",
    "**Answer:**\n",
    "The function $f(x) = x^2$ is a nontrivial function where the quadratic fit search would identify the minimum correctly once the function values at three distinct points are available."
   ]
  },
  {
   "cell_type": "markdown",
   "metadata": {},
   "source": [
    "**Exercise 3.4.**  Suppose we have $f(x) = x^2/2-x$. Apply the bisect method to find the an interval containing the minimizer of $f$ starting with the interval $[0, 1000]$.\n",
    "Execute three steps of the algorithm.\n",
    "\n",
    "**Answer:**"
   ]
  },
  {
   "cell_type": "code",
   "execution_count": 2,
   "metadata": {},
   "outputs": [
    {
     "data": {
      "image/png": "[encoded data removed]",
      "text/plain": [
       "<Figure size 640x480 with 1 Axes>"
      ]
     },
     "metadata": {},
     "output_type": "display_data"
    }
   ],
   "source": [
    "def f_prime(x):\n",
    "    return 2*x-1\n",
    "\n",
    "x = np.linspace(0,1000, 10000)\n",
    "y_prime = f_prime(x)\n",
    "\n",
    "plt.plot(x, y_prime, 'b', label='f\\'(x)')\n",
    "plt.hlines(0, 0, 1000, colors='k', linestyles='solid', label='y=0')\n",
    "plt.xlim(0,1)\n",
    "plt.ylim(-1,1)\n",
    "plt.legend(loc='upper left')\n",
    "plt.grid()\n",
    "plt.show()"
   ]
  },
  {
   "cell_type": "markdown",
   "metadata": {},
   "source": [
    "$$\n",
    "f(x) = \\frac{x^2}{2}-x\n",
    "$$\n",
    "\n",
    "$$\n",
    "f'(x) = 2x-1\n",
    "$$"
   ]
  },
  {
   "cell_type": "markdown",
   "metadata": {},
   "source": [
    "$$\n",
    "\\begin{align}\n",
    "a &= 0 \\\\\n",
    "b &= 1000 \\\\\n",
    "f'(a) &= -1 \\\\\n",
    "f'(b) &= 1999 \\\\\n",
    "\\end{align}\n",
    "$$\n",
    "\n",
    "$$\n",
    "\\begin{align}\n",
    "x = \\frac{a+b}{2} &= 500\\\\\n",
    "y = f'(x) &= 999\n",
    "\\end{align}\n",
    "$$\n",
    "\n",
    "Since $sgn(y) = f'(b)$, we set $b = x$ and $a = a$."
   ]
  },
  {
   "cell_type": "markdown",
   "metadata": {},
   "source": [
    "$$\n",
    "\\begin{align}\n",
    "x = \\frac{a+b}{2} &= 250.0\\\\\n",
    "y = f'(x) &= 499\n",
    "\\end{align}\n",
    "$$\n",
    "\n",
    "Since $sgn(y) = f'(b)$, we set $b = x$ and $a = a$."
   ]
  },
  {
   "cell_type": "markdown",
   "metadata": {},
   "source": [
    "$$\n",
    "\\begin{align}\n",
    "x = \\frac{a+b}{2} &= 125.0\\\\\n",
    "y = f'(x) &= 249.0\n",
    "\\end{align}\n",
    "$$\n",
    "\n",
    "Since $sgn(y) = f'(b)$, we set $b = x$ and $a = a$.\n",
    "\n",
    "Final interval: $[0, 125.0]$"
   ]
  },
  {
   "cell_type": "markdown",
   "metadata": {},
   "source": [
    "**Exercise 3.5.**  Suppose we have a function $f(x) = (x+2)^2$ on the interval [0, 1]. Is 2 a valid Lipschitz constant for $f$ on that interval?\n",
    "\n",
    "**Answer:**\n",
    "$$\n",
    "\\begin{align}\n",
    "f'(x) &= 2(x+2) \\\\\n",
    "f'(0) &= 4 \\\\\n",
    "f'(1) &= 6 \\\\\n",
    "\\end{align}\n",
    "$$\n",
    "\n",
    "Since $f'(0) \\leq 2 \\leq f'(1)$, 2 is a valid Lipschitz constant for $f$ on the interval $[0, 1]$."
   ]
  },
  {
   "cell_type": "markdown",
   "metadata": {},
   "source": [
    "**Exercise 3.6.**  Suppose we have a unimodal function defined on the interval $[1, 32]$. After three evaluations of our choice, will we be able to narrow the optimum to an interval of length 10? Why or why not?\n",
    "\n",
    "**Answer:**\n",
    "The bisection method have a converge rate of $\\log_2(\\frac{b-a}{\\epsilon})$. We have that $\\epsilon = \\frac{10}{2}$, $b = 32$ and $a = 1$, hence the converge rate is $\\log_2(\\frac{32-1}{5}) \\approx 2.63$. This means that after three evaluations, we will be able to narrow the optimum to an interval of length 10.\n"
   ]
  }
 ],
 "metadata": {
  "kernelspec": {
   "display_name": "base",
   "language": "python",
   "name": "python3"
  },
  "language_info": {
   "codemirror_mode": {
    "name": "ipython",
    "version": 3
   },
   "file_extension": ".py",
   "mimetype": "text/x-python",
   "name": "python",
   "nbconvert_exporter": "python",
   "pygments_lexer": "ipython3",
   "version": "3.8.10"
  }
 },
 "nbformat": 4,
 "nbformat_minor": 2
}

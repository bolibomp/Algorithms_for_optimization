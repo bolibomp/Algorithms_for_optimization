{
 "cells": [
  {
   "cell_type": "markdown",
   "metadata": {},
   "source": [
    "**Exercise 4.1.**  Why is it important to have more than one termination condition?\n",
    "\n",
    "**Answer:**\n",
    "It is possible that the first condition is never met. If the first condition is never met, then the loop will never terminate and you have an infinite loop."
   ]
  },
  {
   "cell_type": "markdown",
   "metadata": {},
   "source": [
    "**Exercise 4.2.**  The first Wolfe condition requires\n",
    "\n",
    "$$\n",
    "f(\\mathbf{x}^k + \\alpha_k \\mathbf{d}^k) \\leq f(\\mathbf{x}^k) + \\beta \\alpha \\nabla_{\\mathbf{d}^k} f(\\mathbf{x}^k)\n",
    "$$\n",
    "\n",
    "What is the maximum step length $\\alpha$ that satisfies this condition, given that $f(\\mathbf{x}) = 5+x_1^2+x_2^2$, $\\mathbf{x}^k = [-1, -1]^T$, $\\mathbf{d}^k = [1, 0]^T$, and $\\beta = 10^{-4}$?\n",
    "\n",
    "**Answer:**"
   ]
  },
  {
   "cell_type": "markdown",
   "metadata": {},
   "source": [
    "The gradient is\n",
    "$$\n",
    "\\nabla f(\\mathbf{x}) = \n",
    "\\begin{bmatrix}\n",
    "2x_1 \\\\\n",
    "2x_2\n",
    "\\end{bmatrix}\n",
    "$$\n",
    "\n",
    "\n",
    "$$\n",
    "\\begin{bmatrix}\n",
    "-1 \\\\\n",
    "-1\n",
    "\\end{bmatrix}\n",
    "+\n",
    "\\begin{bmatrix}\n",
    "\\alpha \\\\\n",
    "0\n",
    "\\end{bmatrix}\n",
    "=\n",
    "\\begin{bmatrix}\n",
    "-1 + \\alpha \\\\\n",
    "-1\n",
    "\\end{bmatrix}\n",
    "$$\n",
    "\n",
    "$$\n",
    "f(\\mathbf{x}^k + \\alpha_k \\mathbf{d}^k) = 5 + (-1 + \\alpha)^2 + (-1)^2 = 5 + 1 - 2\\alpha + \\alpha^2 + 1 = 7 - 2\\alpha + \\alpha^2\n",
    "$$"
   ]
  },
  {
   "cell_type": "markdown",
   "metadata": {},
   "source": [
    "$$\n",
    "f(\\mathbf{x}^k) + \\beta \\alpha \\nabla_{\\mathbf{d}^k} f(\\mathbf{x}^k) = 5 + (-1)^2 + (-1)^2 + 10^{-4} \\alpha \\begin{bmatrix} 2(-1) \\\\ 2(-1) \\end{bmatrix}^T[1,0] = 7 -2*10^{-4} \\alpha\n",
    "$$"
   ]
  },
  {
   "cell_type": "markdown",
   "metadata": {},
   "source": [
    "$$\n",
    "7 - 2\\alpha + \\alpha^2 \\leq 7 -2*10^{-4} \\alpha\n",
    "$$\n",
    "\n",
    "$$\n",
    "\\alpha^2 - 2\\alpha + 2*10^{-4} \\alpha \\leq 0\n",
    "$$\n",
    "\n",
    "$$\n",
    "\\alpha(\\alpha - 2 + 2*10^{-4}) \\leq 0\n",
    "$$\n",
    "\n",
    "$$\n",
    "\\alpha \\leq 0 \\text{ or } \\alpha \\leq 2 - 2*10^{-4}\n",
    "$$\n",
    "\n",
    "The maximum step length is $\\alpha = 2 - 2*10^{-4}$."
   ]
  }
 ],
 "metadata": {
  "language_info": {
   "name": "python"
  }
 },
 "nbformat": 4,
 "nbformat_minor": 2
}
